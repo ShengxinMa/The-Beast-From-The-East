{
 "cells": [
  {
   "cell_type": "code",
   "execution_count": 2,
   "metadata": {
    "collapsed": true
   },
   "outputs": [],
   "source": [
    "from pytrends.request import TrendReq\n",
    "import pandas as pd\n"
   ]
  },
  {
   "cell_type": "code",
   "execution_count": 55,
   "metadata": {
    "collapsed": true
   },
   "outputs": [],
   "source": [
    "kw_list0 = ['M1 motorway', 'M2 motorway', 'M3 motorway', 'M25 motorway', 'M62 motorway']\n",
    "kw_list1 = ['M1 motorway', 'M4 motorway', 'M5 motorway', 'M6 motorway', 'M6 Toll']\n",
    "kw_list2 = ['M1 motorway', 'M8 motorway', 'M9 motorway', 'M11 motorway', 'M18 motorway']\n",
    "kw_list3 = ['M1 motorway', 'M20 motorway', 'M23 motorway', 'M26 motorway', 'M27 motorway']\n",
    "kw_list4 = ['M1 motorway', 'M32 motorway', 'M40 motorway', 'M42 motorway', 'M45 motorway']\n",
    "kw_list5 = ['M1 motorway', 'M48 motorway', 'M49 motorway', 'M50 motorway', 'M53 motorway']\n",
    "kw_list6 = ['M1 motorway', 'M54 motorway', 'M55 motorway', 'M56 motorway', 'M57 motorway']\n",
    "kw_list7 = ['M1 motorway', 'M58 motorway', 'M60 motorway', 'M61 motorway', 'M65 motorway']\n",
    "kw_list8 = ['M1 motorway', 'M66 motorway', 'M67 motorway', 'M69 motorway', 'M73 motorway']\n",
    "kw_list9 = ['M1 motorway', 'M74 motorway', 'M77 motorway', 'M80 motorway', 'M90 motorway']\n",
    "kw_list10 = ['M1 motorway', 'M180 motorway', 'M181 motorway', 'M271 motorway', 'M275 motorway']\n",
    "kw_list11 = ['M1 motorway', 'M602 motorway', 'M606 motorway', 'M621 motorway', 'M876 motorway']\n",
    "kw_list12 = ['M1 motorway', 'M898 motorway']\n",
    "\n",
    "pytrend = TrendReq(hl='en-UK')\n",
    "\n",
    "pytrend.build_payload(kw_list0, timeframe='2018-02-26T00 2018-03-05T23', geo = 'GB')\n",
    "\n",
    "# Interest Over Time\n",
    "interest = pytrend.interest_over_time()\n",
    "interest.to_csv('pytrends0.csv')"
   ]
  }
 ],
 "metadata": {
  "kernelspec": {
   "display_name": "Python 3",
   "language": "python",
   "name": "python3"
  },
  "language_info": {
   "codemirror_mode": {
    "name": "ipython",
    "version": 3
   },
   "file_extension": ".py",
   "mimetype": "text/x-python",
   "name": "python",
   "nbconvert_exporter": "python",
   "pygments_lexer": "ipython3",
   "version": "3.6.2"
  }
 },
 "nbformat": 4,
 "nbformat_minor": 2
}
